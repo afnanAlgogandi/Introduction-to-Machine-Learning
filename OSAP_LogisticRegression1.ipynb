{
  "nbformat": 4,
  "nbformat_minor": 0,
  "metadata": {
    "colab": {
      "name": "OSAP_LogisticRegression1.ipynb",
      "provenance": [],
      "collapsed_sections": [],
      "include_colab_link": true
    },
    "kernelspec": {
      "name": "python3",
      "display_name": "Python 3"
    },
    "language_info": {
      "name": "python"
    },
    "gpuClass": "standard"
  },
  "cells": [
    {
      "cell_type": "markdown",
      "metadata": {
        "id": "view-in-github",
        "colab_type": "text"
      },
      "source": [
        "<a href=\"https://colab.research.google.com/github/afnanAlgognadi/Introduction-to-Machine-Learning/blob/main/OSAP_LogisticRegression1.ipynb\" target=\"_parent\"><img src=\"https://colab.research.google.com/assets/colab-badge.svg\" alt=\"Open In Colab\"/></a>"
      ]
    },
    {
      "cell_type": "code",
      "execution_count": null,
      "metadata": {
        "id": "QfFeTo_P-mTF"
      },
      "outputs": [],
      "source": [
        "import numpy as np\n",
        "import matplotlib.pyplot as plt\n",
        "\n",
        "%matplotlib inline"
      ]
    },
    {
      "cell_type": "code",
      "source": [
        "def plotClass(X,y,p):\n",
        "    for i in range(y.shape[1]):\n",
        "        if y[0,i]==0:\n",
        "            plt.plot(X[0,i],X[1,i],'r'+p)\n",
        "        else:\n",
        "            plt.plot(X[0,i],X[1,i],'b'+p)\n",
        "            \n"
      ],
      "metadata": {
        "id": "njYxETX4-qTk"
      },
      "execution_count": null,
      "outputs": []
    },
    {
      "cell_type": "code",
      "source": [
        "num_data=100 # data points per class\n",
        "\n",
        "x1=np.random.randn(2,num_data)+2\n",
        "x0=np.random.randn(2,num_data)\n",
        "\n",
        "y1=np.ones((1,num_data))\n",
        "y0=np.zeros((1,num_data))\n",
        "\n",
        "X=np.concatenate((x1,x0),axis=1)\n",
        "y=np.concatenate((y1,y0), axis=1)\n",
        "plotClass(X,y,'o')\n",
        "print(X.shape)\n",
        "print(y.shape)\n",
        "\n",
        "X = X.T\n",
        "y = y.T"
      ],
      "metadata": {
        "colab": {
          "base_uri": "https://localhost:8080/",
          "height": 300
        },
        "id": "GKX3U7L0-rZl",
        "outputId": "b04f3666-0c0e-41f0-9f5f-f19b92e1cfd2"
      },
      "execution_count": null,
      "outputs": [
        {
          "output_type": "stream",
          "name": "stdout",
          "text": [
            "(2, 200)\n",
            "(1, 200)\n"
          ]
        },
        {
          "output_type": "display_data",
          "data": {
            "text/plain": [
              "<Figure size 432x288 with 1 Axes>"
            ],
            "image/png": "[encoded data removed]"
          },
          "metadata": {
            "needs_background": "light"
          }
        }
      ]
    },
    {
      "cell_type": "markdown",
      "source": [
        "z  = W X + w0\n",
        "\n",
        "z =  X w + w0"
      ],
      "metadata": {
        "id": "aOODYik9-9Ki"
      }
    },
    {
      "cell_type": "code",
      "source": [
        "# X =[x_1, x_2, ..., x_N]"
      ],
      "metadata": {
        "id": "yR7V-W8o_gmX"
      },
      "execution_count": null,
      "outputs": []
    },
    {
      "cell_type": "code",
      "source": [
        "y.shape"
      ],
      "metadata": {
        "colab": {
          "base_uri": "https://localhost:8080/"
        },
        "id": "F0PkqjCr-1lP",
        "outputId": "59a5f7f8-7e63-4b8a-84e9-815befc335ee"
      },
      "execution_count": null,
      "outputs": [
        {
          "output_type": "execute_result",
          "data": {
            "text/plain": [
              "(1, 200)"
            ]
          },
          "metadata": {},
          "execution_count": 5
        }
      ]
    },
    {
      "cell_type": "code",
      "source": [
        "def get_z(X, w, b):\n",
        "  return w@X+b\n",
        "\n",
        "\n",
        "\n",
        "def sigmoid(z):\n",
        "  return 1/(1+np.exp(-z))\n",
        "\n",
        "\n",
        "def get_loss(y, yhat):\n",
        "  return np.sum(-y*np.log(yhat)-(1-y)*np.log(1-yhat), axis = 1)"
      ],
      "metadata": {
        "id": "YW_yMeAi-1i6"
      },
      "execution_count": null,
      "outputs": []
    },
    {
      "cell_type": "code",
      "source": [
        "ni = X.shape[0]\n",
        "no = y.shape[0]\n",
        "\n",
        "w = np.random.randn(no,ni)\n",
        "b = 0\n",
        "\n",
        "\n",
        "Z = get_z(X,w,b)\n",
        "print(Z.shape)\n",
        "\n",
        "yhat = sigmoid(Z)\n",
        "\n",
        "loss = get_loss(y,yhat)\n",
        "print(loss)"
      ],
      "metadata": {
        "id": "vUJkuLb0-1f8"
      },
      "execution_count": null,
      "outputs": []
    },
    {
      "cell_type": "code",
      "source": [
        "lr = 1e-4\n",
        "ls = []\n",
        "bs = 10\n",
        "for i in range(10000):\n",
        "  # dJ / d yhat ---> dyhat\n",
        "  # dJ / dz  ----> dz\n",
        "  # dJ / dw ----> dw\n",
        "  # dJ / db.-----> db\n",
        "  \n",
        "  # forward pass\n",
        "\n",
        "  loss = get_loss(y,yhat)\n",
        "  ls.append(loss)\n",
        "\n",
        "\n",
        "  #backward pass\n",
        "  dz = yhat -y\n",
        "\n",
        "  #dJ/dw = [dJ/dyhat * dyhat/z] * dz/dw\n",
        "  #dJ/dw = [dz] *dz/dw\n",
        "  #dz/dw = X.T\n",
        "\n",
        "  dw = dz @ X.T\n",
        "  db = np.sum(dz, axis =1, keepdims= True)\n",
        "\n",
        "\n",
        "  # weights update\n",
        "\n",
        "  w-= lr*dw\n",
        "  b-= lr*db\n",
        "\n",
        "plt.plot(ls)"
      ],
      "metadata": {
        "id": "ceNaQC0qCuv_"
      },
      "execution_count": null,
      "outputs": []
    },
    {
      "cell_type": "code",
      "source": [
        "X.shape"
      ],
      "metadata": {
        "colab": {
          "base_uri": "https://localhost:8080/"
        },
        "id": "5a6MoN33SiRt",
        "outputId": "dbcf1695-663f-4d38-f199-0a24e186ded0"
      },
      "execution_count": null,
      "outputs": [
        {
          "output_type": "execute_result",
          "data": {
            "text/plain": [
              "(200, 2)"
            ]
          },
          "metadata": {},
          "execution_count": 65
        }
      ]
    },
    {
      "cell_type": "markdown",
      "source": [
        "dz ---> [1, 200] [200,2]"
      ],
      "metadata": {
        "id": "XR7qiD5ME4Cg"
      }
    },
    {
      "cell_type": "code",
      "source": [
        "plt.figure()\n",
        "plt.subplot(121)\n",
        "plotClass(X,y,'o')\n",
        "plt.subplot(122)\n",
        "plotClass(X,yhat>0.5,'x')\n",
        "#w1*x1+w2*x2+b=0\n",
        "x1 = np.linspace(-2,4, 10)\n",
        "x2 = (-b - w[0,0]*x1)/w[0,1]\n",
        "plt.plot(x1,x2.squeeze())\n",
        "plt.plot([0, w[0,1]], [0,w[0,0]],'g', 'LineWidth',4)"
      ],
      "metadata": {
        "colab": {
          "base_uri": "https://localhost:8080/",
          "height": 300
        },
        "id": "LuGIwDkTF0kP",
        "outputId": "72745c90-f165-488d-8658-3bdfd7da3469"
      },
      "execution_count": null,
      "outputs": [
        {
          "output_type": "execute_result",
          "data": {
            "text/plain": [
              "[<matplotlib.lines.Line2D at 0x7ff0d6737ad0>,\n",
              " <matplotlib.lines.Line2D at 0x7ff0d6737910>]"
            ]
          },
          "metadata": {},
          "execution_count": 47
        },
        {
          "output_type": "display_data",
          "data": {
            "text/plain": [
              "<Figure size 432x288 with 2 Axes>"
            ],
            "image/png": "[encoded data removed]"
          },
          "metadata": {
            "needs_background": "light"
          }
        }
      ]
    },
    {
      "cell_type": "code",
      "source": [
        "print(X.shape, y.shape)"
      ],
      "metadata": {
        "colab": {
          "base_uri": "https://localhost:8080/"
        },
        "id": "A82Egv1J-1bR",
        "outputId": "d7a87d73-c599-46a0-e650-b077aeb08e89"
      },
      "execution_count": null,
      "outputs": [
        {
          "output_type": "stream",
          "name": "stdout",
          "text": [
            "(200, 2) (200, 1)\n"
          ]
        }
      ]
    },
    {
      "cell_type": "code",
      "source": [
        "def get_z(X, w, b):\n",
        "  return X@w+b\n",
        "\n",
        "\n",
        "\n",
        "def sigmoid(z):\n",
        "  return 1/(1+np.exp(-z))\n",
        "\n",
        "\n",
        "def get_loss(y, yhat):\n",
        "  return np.sum(-y*np.log(yhat)-(1-y)*np.log(1-yhat), axis = 0)"
      ],
      "metadata": {
        "id": "CT2xSYMhIQNU"
      },
      "execution_count": null,
      "outputs": []
    },
    {
      "cell_type": "code",
      "source": [
        "ni = X.shape[1]\n",
        "no = y.shape[1]\n",
        "\n",
        "w = np.random.randn(ni, no)\n",
        "b = 0\n",
        "\n",
        "bs =8\n",
        "lr = 1e-4\n",
        "ls = []\n",
        "vw = 0\n",
        "vb = 0\n",
        "mu = 0.5\n",
        "for i in range(10000):\n",
        "  # dJ / d yhat ---> dyhat\n",
        "  # dJ / dz  ----> dz\n",
        "  # dJ / dw ----> dw\n",
        "  # dJ / db.-----> db\n",
        "  ind = np.random.randint(0, X.shape[0], bs )\n",
        "  Xb = X[ind,:]\n",
        "  yb = y[ind,:]\n",
        "  Z = get_z(Xb,w,b)\n",
        "  yhat = sigmoid(Z)\n",
        "  # forward pass\n",
        "  Z = get_z(Xb,w,b)\n",
        "  yhat = sigmoid(Z)\n",
        "  loss = get_loss(yb,yhat)\n",
        "  if i%100==0:\n",
        "    ls.append(loss)\n",
        "\n",
        "\n",
        "  #backward pass\n",
        "  dz = yhat -yb\n",
        "\n",
        "  #dJ/dw = [dJ/dyhat * dyhat/z] * dz/dw\n",
        "  #dJ/dw = [dz] *dz/dw\n",
        "  #dz/dw = X.T\n",
        "\n",
        "  dw = Xb.T@dz \n",
        "  db = np.sum(dz, axis =0, keepdims= True)\n",
        "\n",
        "\n",
        "  # weights update\n",
        "  vw = mu*vw - (1-mu)*lr*dw\n",
        "  vb = mu*vb - (1-mu)*lr*db\n",
        "  w+= vw\n",
        "  b+= vb\n",
        "  #w-= lr*dw\n",
        "  #b-= lr*db\n",
        "\n",
        "plt.plot(ls)"
      ],
      "metadata": {
        "colab": {
          "base_uri": "https://localhost:8080/",
          "height": 282
        },
        "id": "D_F1SfubIQQC",
        "outputId": "ca277a9c-ef48-4c82-f42e-c65bc5e06841"
      },
      "execution_count": null,
      "outputs": [
        {
          "output_type": "execute_result",
          "data": {
            "text/plain": [
              "[<matplotlib.lines.Line2D at 0x7ff0d60c4910>]"
            ]
          },
          "metadata": {},
          "execution_count": 78
        },
        {
          "output_type": "display_data",
          "data": {
            "text/plain": [
              "<Figure size 432x288 with 1 Axes>"
            ],
            "image/png": "[encoded data removed]"
          },
          "metadata": {
            "needs_background": "light"
          }
        }
      ]
    },
    {
      "cell_type": "code",
      "source": [
        "vw"
      ],
      "metadata": {
        "colab": {
          "base_uri": "https://localhost:8080/"
        },
        "id": "9ZD2o70ZJbH2",
        "outputId": "45ae4939-eeb4-41a1-c0d1-a06e0e849a0c"
      },
      "execution_count": null,
      "outputs": [
        {
          "output_type": "execute_result",
          "data": {
            "text/plain": [
              "array([[-1.17850184e-05],\n",
              "       [-4.31028919e-05]])"
            ]
          },
          "metadata": {},
          "execution_count": 75
        }
      ]
    },
    {
      "cell_type": "code",
      "source": [
        "# dz --->(200,1).  X.T---->(2,200) ----> X.T@dz. --->(2,1)"
      ],
      "metadata": {
        "id": "6_9CmZ5mJDMV"
      },
      "execution_count": null,
      "outputs": []
    },
    {
      "cell_type": "code",
      "source": [
        "!nvidia-smi"
      ],
      "metadata": {
        "colab": {
          "base_uri": "https://localhost:8080/"
        },
        "id": "XyDKXCxcIQSY",
        "outputId": "ebf0b39e-01f8-4542-f2c3-f079647eeaea"
      },
      "execution_count": null,
      "outputs": [
        {
          "output_type": "stream",
          "name": "stdout",
          "text": [
            "Mon Aug 15 11:03:02 2022       \n",
            "+-----------------------------------------------------------------------------+\n",
            "| NVIDIA-SMI 460.32.03    Driver Version: 460.32.03    CUDA Version: 11.2     |\n",
            "|-------------------------------+----------------------+----------------------+\n",
            "| GPU  Name        Persistence-M| Bus-Id        Disp.A | Volatile Uncorr. ECC |\n",
            "| Fan  Temp  Perf  Pwr:Usage/Cap|         Memory-Usage | GPU-Util  Compute M. |\n",
            "|                               |                      |               MIG M. |\n",
            "|===============================+======================+======================|\n",
            "|   0  Tesla T4            Off  | 00000000:00:04.0 Off |                    0 |\n",
            "| N/A   53C    P8    10W /  70W |      0MiB / 15109MiB |      0%      Default |\n",
            "|                               |                      |                  N/A |\n",
            "+-------------------------------+----------------------+----------------------+\n",
            "                                                                               \n",
            "+-----------------------------------------------------------------------------+\n",
            "| Processes:                                                                  |\n",
            "|  GPU   GI   CI        PID   Type   Process name                  GPU Memory |\n",
            "|        ID   ID                                                   Usage      |\n",
            "|=============================================================================|\n",
            "|  No running processes found                                                 |\n",
            "+-----------------------------------------------------------------------------+\n"
          ]
        }
      ]
    },
    {
      "cell_type": "code",
      "source": [],
      "metadata": {
        "id": "wmNIBdsHIQVP"
      },
      "execution_count": null,
      "outputs": []
    },
    {
      "cell_type": "code",
      "source": [],
      "metadata": {
        "id": "tHwXZ5UiIQXk"
      },
      "execution_count": null,
      "outputs": []
    },
    {
      "cell_type": "code",
      "source": [],
      "metadata": {
        "id": "OefPrCf3-1Y9"
      },
      "execution_count": null,
      "outputs": []
    },
    {
      "cell_type": "code",
      "source": [],
      "metadata": {
        "id": "TiPPZ169-1Wi"
      },
      "execution_count": null,
      "outputs": []
    },
    {
      "cell_type": "code",
      "source": [],
      "metadata": {
        "id": "j8cT7WDi-1Tq"
      },
      "execution_count": null,
      "outputs": []
    },
    {
      "cell_type": "code",
      "source": [],
      "metadata": {
        "id": "qw5io95w-1Qw"
      },
      "execution_count": null,
      "outputs": []
    },
    {
      "cell_type": "code",
      "source": [
        "X = X.T\n",
        "y = y.T"
      ],
      "metadata": {
        "id": "xbcIsZWQj5rV"
      },
      "execution_count": null,
      "outputs": []
    },
    {
      "cell_type": "code",
      "source": [
        "print(y.shape)"
      ],
      "metadata": {
        "colab": {
          "base_uri": "https://localhost:8080/"
        },
        "id": "6QuDNn_4kwpg",
        "outputId": "f75a2873-bc03-43e9-c458-910ae91d0d0c"
      },
      "execution_count": null,
      "outputs": [
        {
          "output_type": "stream",
          "name": "stdout",
          "text": [
            "(200, 1)\n"
          ]
        }
      ]
    },
    {
      "cell_type": "code",
      "source": [
        "def get_z(X,w,b):\n",
        "  return X@w+b\n",
        "\n",
        "def sigmoid(z):\n",
        "  return 1/(1+np.exp(-z))\n",
        "\n",
        "\n",
        "def get_loss(y, yhat):\n",
        "  return np.sum(-y*np.log(yhat) - (1 - y )*np.log(1-yhat), axis =0)\n",
        "\n",
        "\n",
        "\n",
        "w = np.random.randn(X.shape[1], y.shape[1])\n",
        "b = np.zeros((y.shape[1],1))\n",
        "\n",
        "lr =1e-4\n",
        "\n",
        "ls = []\n",
        "for i in range(100):\n",
        "  z = get_z(X,w,b)\n",
        "  yhat = sigmoid(z)\n",
        "  loss = get_loss(y, yhat)\n",
        "\n",
        "\n",
        "  dz = yhat - y\n",
        "  dw = X.T@dz\n",
        "  db = np.sum(dz, keepdims = True)\n",
        "\n",
        "  w-=lr*dw\n",
        "  b-=lr*db\n",
        "\n",
        "  ls.append(loss)\n",
        "\n",
        "plt.plot(ls)"
      ],
      "metadata": {
        "colab": {
          "base_uri": "https://localhost:8080/",
          "height": 282
        },
        "id": "LkJxA1Xvj-Hx",
        "outputId": "a87ef8c5-0c98-42e2-c677-8964232c8578"
      },
      "execution_count": null,
      "outputs": [
        {
          "output_type": "execute_result",
          "data": {
            "text/plain": [
              "[<matplotlib.lines.Line2D at 0x7ff6a3972490>]"
            ]
          },
          "metadata": {},
          "execution_count": 18
        },
        {
          "output_type": "display_data",
          "data": {
            "text/plain": [
              "<Figure size 432x288 with 1 Axes>"
            ],
            "image/png": "[encoded data removed]"
          },
          "metadata": {
            "needs_background": "light"
          }
        }
      ]
    },
    {
      "cell_type": "code",
      "source": [
        "db.shape\n"
      ],
      "metadata": {
        "colab": {
          "base_uri": "https://localhost:8080/"
        },
        "id": "EbVuiIxjlq4Q",
        "outputId": "97d974d3-fb2d-4627-a8e9-449fbb92e07b"
      },
      "execution_count": null,
      "outputs": [
        {
          "output_type": "execute_result",
          "data": {
            "text/plain": [
              "(1, 1)"
            ]
          },
          "metadata": {},
          "execution_count": 15
        }
      ]
    },
    {
      "cell_type": "code",
      "source": [],
      "metadata": {
        "id": "6UF7sBF7lwgf"
      },
      "execution_count": null,
      "outputs": []
    }
  ]
}